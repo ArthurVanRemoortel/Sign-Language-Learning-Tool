{
 "cells": [
  {
   "cell_type": "code",
   "execution_count": 192,
   "metadata": {
    "collapsed": true
   },
   "outputs": [],
   "source": [
    "import csv\n",
    "import os\n",
    "import numpy as np\n",
    "import tensorflow as tf\n",
    "from sklearn.model_selection import train_test_split\n",
    "from pathlib import Path\n",
    "import pandas as pd\n",
    "import matplotlib.pyplot as plt\n",
    "\n",
    "RANDOM_SEED = 42"
   ]
  },
  {
   "cell_type": "code",
   "execution_count": 193,
   "outputs": [],
   "source": [
    "# dataset = Path('gestures_dataset_new.csv')\n",
    "DATASET_CSV = Path('../gestures_dataset_hallo.csv')\n",
    "DATASET_ROOT = Path('../ai_data/vgt-hallo')\n",
    "\n",
    "# UPLOADED_DATASET_CSV = Path('../uploaded_gestures_dataset.csv')\n",
    "# UPLOADED_DATASET_ROOT = Path('../ai_data/vgt-uploaded')"
   ],
   "metadata": {
    "collapsed": false
   }
  },
  {
   "cell_type": "code",
   "execution_count": 194,
   "outputs": [],
   "source": [
    "def handedness_data_from_directory_names(dataset_location: Path):\n",
    "    handedness_data = {}\n",
    "    for gesture_folder in os.listdir(dataset_location):\n",
    "        gesture_name, handedness_string = gesture_folder.split('_')\n",
    "        handedness_data[gesture_name] = (handedness_string[0] == '1', handedness_string[1] == '1')\n",
    "    return handedness_data"
   ],
   "metadata": {
    "collapsed": false
   }
  },
  {
   "cell_type": "code",
   "execution_count": 195,
   "outputs": [
    {
     "name": "stdout",
     "output_type": "stream",
     "text": [
      "The autoreload extension is already loaded. To reload it, use:\n",
      "  %reload_ext autoreload\n",
      "Loaded 1 gestures\n",
      "hallo(0 -> 0)\n",
      "Dataset contain 1 gestures.\n"
     ]
    },
    {
     "data": {
      "text/plain": "<Figure size 640x480 with 1 Axes>",
      "image/png": "[encoded data removed]"
     },
     "metadata": {},
     "output_type": "display_data"
    }
   ],
   "source": [
    "%load_ext autoreload\n",
    "%autoreload 2\n",
    "from sl_ai.gesture_classifier import GestureClassifier\n",
    "from sl_ai.dataset import GestureDataset\n",
    "\n",
    "gesture_dataset: GestureDataset = GestureDataset()\n",
    "gesture_dataset.scan_videos(dataset_location=DATASET_ROOT, handedness_data=handedness_data_from_directory_names(DATASET_ROOT))\n",
    "# gesture_dataset.analyze_videos(csv_out_path=DATASET_CSV, overwrite=True)\n",
    "\n",
    "gesture_dataset.load_from_csv(DATASET_CSV, visualize_gestures_ids=[0])\n",
    "\n",
    "# uploaded_dataset: GestureDataset = GestureDataset()\n",
    "# uploaded_dataset.load_from_csv(UPLOADED_DATASET_CSV)\n",
    "\n",
    "# gesture_dataset.append_dataset(uploaded_dataset)\n",
    "\n",
    "gesture_dataset.summary()\n",
    "\n",
    "classifier: GestureClassifier = GestureClassifier(gesture_dataset=gesture_dataset)"
   ],
   "metadata": {
    "collapsed": false
   }
  },
  {
   "cell_type": "code",
   "execution_count": 196,
   "outputs": [
    {
     "name": "stdout",
     "output_type": "stream",
     "text": [
      "(2, 400)\n",
      "(2,)\n"
     ]
    }
   ],
   "source": [
    "classifier: GestureClassifier = GestureClassifier(gesture_dataset=gesture_dataset)\n",
    "print(gesture_dataset.x_data.shape)\n",
    "print(gesture_dataset.y_data.shape)"
   ],
   "metadata": {
    "collapsed": false
   }
  },
  {
   "cell_type": "code",
   "execution_count": 197,
   "outputs": [
    {
     "ename": "Exception",
     "evalue": "",
     "output_type": "error",
     "traceback": [
      "\u001B[1;31m---------------------------------------------------------------------------\u001B[0m",
      "\u001B[1;31mException\u001B[0m                                 Traceback (most recent call last)",
      "Cell \u001B[1;32mIn [197], line 1\u001B[0m\n\u001B[1;32m----> 1\u001B[0m \u001B[38;5;28;01mraise\u001B[39;00m \u001B[38;5;167;01mException\u001B[39;00m()\n",
      "\u001B[1;31mException\u001B[0m: "
     ]
    }
   ],
   "source": [
    "raise Exception()"
   ],
   "metadata": {
    "collapsed": false
   }
  },
  {
   "cell_type": "code",
   "execution_count": null,
   "outputs": [],
   "source": [
    "classifier.train(train_size=.6)\n",
    "classifier.summary()"
   ],
   "metadata": {
    "collapsed": false
   }
  },
  {
   "cell_type": "markdown",
   "source": [
    "\n"
   ],
   "metadata": {
    "collapsed": false
   }
  },
  {
   "cell_type": "code",
   "execution_count": null,
   "outputs": [],
   "source": [
    "classifier.visualize_accuracy()"
   ],
   "metadata": {
    "collapsed": false
   }
  },
  {
   "cell_type": "code",
   "execution_count": null,
   "outputs": [],
   "source": [
    "classifier.visualize_loss()"
   ],
   "metadata": {
    "collapsed": false
   }
  },
  {
   "cell_type": "code",
   "execution_count": null,
   "outputs": [],
   "source": [
    "classifier.confusion_matrix()"
   ],
   "metadata": {
    "collapsed": false
   }
  },
  {
   "cell_type": "markdown",
   "source": [
    "# Test predictions"
   ],
   "metadata": {
    "collapsed": false
   }
  },
  {
   "cell_type": "code",
   "execution_count": null,
   "outputs": [],
   "source": [],
   "metadata": {
    "collapsed": false
   }
  },
  {
   "cell_type": "code",
   "execution_count": null,
   "outputs": [],
   "source": [
    "from sl_ai.dataset import detect_hands_task, GestureData\n",
    "\n",
    "video_path = Path('../ai_data/vgt-all/duidelijk_11/duidelijk - 2023-01-04_16-41-21.mp4')\n",
    "gesture_data = GestureData(name=\"hello\", left_hand=False, right_hand=True)\n",
    "video_name, (frame_width, frame_height), left_landmarks, right_landmarks = detect_hands_task(gesture_data, video_path)\n"
   ],
   "metadata": {
    "collapsed": false
   }
  },
  {
   "cell_type": "code",
   "execution_count": null,
   "outputs": [],
   "source": [
    "from sl_ai.dataset import preprocess_landmarks\n",
    "from copy import deepcopy\n",
    "left_landmarks_copy = deepcopy(left_landmarks)\n",
    "right_landmarks_copy = deepcopy(right_landmarks)\n",
    "preprocess_landmarks(left_landmarks_copy, right_landmarks_copy, None, None)"
   ],
   "metadata": {
    "collapsed": false
   }
  },
  {
   "cell_type": "code",
   "execution_count": null,
   "outputs": [],
   "source": [
    "from sl_ai.dataset import pre_process_point_history_center\n",
    "\n",
    "for i, landmarks in left_landmarks_copy.items():\n",
    "    left_landmarks_copy[i] = pre_process_point_history_center(None, None, landmarks)\n",
    "for i, landmarks in right_landmarks_copy.items():\n",
    "    right_landmarks_copy[i] = pre_process_point_history_center(None, None, landmarks)"
   ],
   "metadata": {
    "collapsed": false
   }
  },
  {
   "cell_type": "code",
   "execution_count": null,
   "outputs": [],
   "source": [
    "result = classifier.predict(left_landmarks_copy, right_landmarks_copy)\n",
    "classes_x = np.argmax(result, axis=1)\n",
    "print(classes_x)\n",
    "prediction_percents = (result*100)\n",
    "frame = pd.DataFrame(prediction_percents.astype(np.int32))\n",
    "print(frame)"
   ],
   "metadata": {
    "collapsed": false
   }
  },
  {
   "cell_type": "code",
   "execution_count": null,
   "outputs": [],
   "source": [
    "result"
   ],
   "metadata": {
    "collapsed": false
   }
  },
  {
   "cell_type": "code",
   "execution_count": null,
   "outputs": [],
   "source": [
    "l = np.array(left_landmarks_copy[12], dtype='float32')\n",
    "r = np.array(right_landmarks_copy[12], dtype='float32')\n",
    "\n",
    "x_data = np.concatenate((l, r), axis=0)\n",
    "x_data = x_data.reshape((-1, x_data.shape[0]))\n",
    "results = classifier.model.predict(x_data, batch_size=1)\n",
    "classes_x = np.argmax(result, axis=1)\n",
    "print(classes_x)\n",
    "prediction_percents = (result*100)\n",
    "frame = pd.DataFrame(prediction_percents.astype(np.int32))\n",
    "print(frame)"
   ],
   "metadata": {
    "collapsed": false
   }
  },
  {
   "cell_type": "code",
   "execution_count": null,
   "outputs": [],
   "source": [],
   "metadata": {
    "collapsed": false
   }
  }
 ],
 "metadata": {
  "kernelspec": {
   "display_name": "Python 3",
   "language": "python",
   "name": "python3"
  },
  "language_info": {
   "codemirror_mode": {
    "name": "ipython",
    "version": 2
   },
   "file_extension": ".py",
   "mimetype": "text/x-python",
   "name": "python",
   "nbconvert_exporter": "python",
   "pygments_lexer": "ipython2",
   "version": "2.7.6"
  }
 },
 "nbformat": 4,
 "nbformat_minor": 0
}
