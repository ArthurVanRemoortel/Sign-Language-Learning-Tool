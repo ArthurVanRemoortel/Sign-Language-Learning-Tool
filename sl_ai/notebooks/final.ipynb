{
 "cells": [
  {
   "cell_type": "code",
   "execution_count": 1,
   "outputs": [
    {
     "name": "stderr",
     "output_type": "stream",
     "text": [
      "2023-01-31 14:51:45.495771: I tensorflow/core/platform/cpu_feature_guard.cc:193] This TensorFlow binary is optimized with oneAPI Deep Neural Network Library (oneDNN) to use the following CPU instructions in performance-critical operations:  AVX2 FMA\n",
      "To enable them in other operations, rebuild TensorFlow with the appropriate compiler flags.\n"
     ]
    }
   ],
   "source": [
    "import csv\n",
    "import os\n",
    "import numpy as np\n",
    "import tensorflow as tf\n",
    "from sklearn.model_selection import train_test_split\n",
    "from pathlib import Path\n",
    "import pandas as pd\n",
    "import matplotlib.pyplot as plt\n",
    "\n",
    "RANDOM_SEED = 42"
   ],
   "metadata": {
    "collapsed": false,
    "pycharm": {
     "name": "#%%\n"
    }
   }
  },
  {
   "cell_type": "code",
   "execution_count": 2,
   "outputs": [],
   "source": [
    "# dataset = Path('gestures_dataset_new.csv')\n",
    "DATASET_CSV = Path('../gestures_dataset.csv')\n",
    "DATASET_ROOT = Path('../ai_data/vgt-all')\n",
    "\n",
    "UPLOADED_DATASET_CSV = Path('../uploaded_gestures_dataset.csv')\n",
    "UPLOADED_GESTURES_ROOT = Path('../ai_data/vgt-uploaded')"
   ],
   "metadata": {
    "collapsed": false,
    "pycharm": {
     "name": "#%%\n"
    }
   }
  },
  {
   "cell_type": "code",
   "execution_count": 3,
   "outputs": [],
   "source": [
    "def handedness_data_from_directory_names(dataset_location: Path):\n",
    "    handedness_data = {}\n",
    "    for gesture_folder in os.listdir(dataset_location):\n",
    "        gesture_name, handedness_string = gesture_folder.split('_')\n",
    "        handedness_data[gesture_name] = (handedness_string[0] == '1', handedness_string[1] == '1')\n",
    "    return handedness_data"
   ],
   "metadata": {
    "collapsed": false,
    "pycharm": {
     "name": "#%%\n"
    }
   }
  },
  {
   "cell_type": "code",
   "execution_count": 4,
   "outputs": [
    {
     "name": "stdout",
     "output_type": "stream",
     "text": [
      "belgië(0 -> 0)\n",
      "bowlen(1 -> 1)\n",
      "computer(2 -> 2)\n",
      "duidelijk(3 -> 3)\n",
      "fietsen(4 -> 4)\n",
      "gebaar(5 -> 5)\n",
      "geit(6 -> 6)\n",
      "hallo(7 -> 7)\n",
      "kameel(8 -> 8)\n",
      "muis(9 -> 9)\n",
      "tennis(10 -> 10)\n",
      "verenigde staten(11 -> 11)\n",
      "Something went wrong while processing usa - 2023-01-04_16-18-24.mp4: list index out of range\n"
     ]
    },
    {
     "ename": "NotADirectoryError",
     "evalue": "[Errno 20] Not a directory: '../ai_data/vgt-uploaded/.DS_Store'",
     "output_type": "error",
     "traceback": [
      "\u001B[0;31m---------------------------------------------------------------------------\u001B[0m",
      "\u001B[0;31mNotADirectoryError\u001B[0m                        Traceback (most recent call last)",
      "Cell \u001B[0;32mIn[4], line 13\u001B[0m\n\u001B[1;32m      9\u001B[0m gesture_dataset\u001B[38;5;241m.\u001B[39mload_from_csv(DATASET_CSV)\n\u001B[1;32m     12\u001B[0m \u001B[38;5;28;01mfor\u001B[39;00m user_folder \u001B[38;5;129;01min\u001B[39;00m os\u001B[38;5;241m.\u001B[39mlistdir(UPLOADED_GESTURES_ROOT):\n\u001B[0;32m---> 13\u001B[0m     \u001B[38;5;28;01mfor\u001B[39;00m gesture_folder \u001B[38;5;129;01min\u001B[39;00m \u001B[43mos\u001B[49m\u001B[38;5;241;43m.\u001B[39;49m\u001B[43mlistdir\u001B[49m\u001B[43m(\u001B[49m\u001B[43mUPLOADED_GESTURES_ROOT\u001B[49m\u001B[43m \u001B[49m\u001B[38;5;241;43m/\u001B[39;49m\u001B[43m \u001B[49m\u001B[43muser_folder\u001B[49m\u001B[43m)\u001B[49m:\n\u001B[1;32m     14\u001B[0m         csv_files \u001B[38;5;241m=\u001B[39m \u001B[38;5;28mlist\u001B[39m(\n\u001B[1;32m     15\u001B[0m             \u001B[38;5;28mfilter\u001B[39m(\n\u001B[1;32m     16\u001B[0m                 \u001B[38;5;28;01mlambda\u001B[39;00m file: file\u001B[38;5;241m.\u001B[39mendswith(\u001B[38;5;124m\"\u001B[39m\u001B[38;5;124m.csv\u001B[39m\u001B[38;5;124m\"\u001B[39m),\n\u001B[0;32m   (...)\u001B[0m\n\u001B[1;32m     20\u001B[0m             )\n\u001B[1;32m     21\u001B[0m         )\n\u001B[1;32m     22\u001B[0m         \u001B[38;5;28;01mif\u001B[39;00m \u001B[38;5;129;01mnot\u001B[39;00m csv_files:\n",
      "\u001B[0;31mNotADirectoryError\u001B[0m: [Errno 20] Not a directory: '../ai_data/vgt-uploaded/.DS_Store'"
     ]
    }
   ],
   "source": [
    "%load_ext autoreload\n",
    "%autoreload 2\n",
    "from sl_ai.gesture_classifier import GestureClassifier\n",
    "from sl_ai.dataset import GestureDataset\n",
    "\n",
    "gesture_dataset: GestureDataset = GestureDataset()\n",
    "# gesture_dataset.scan_videos(dataset_location=DATASET_ROOT, handedness_data=handedness_data_from_directory_names(DATASET_ROOT))\n",
    "# gesture_dataset.analyze_videos(csv_out_path=DATASET_CSV, overwrite=True)\n",
    "gesture_dataset.load_from_csv(DATASET_CSV)\n",
    "\n",
    "\n",
    "for user_folder in os.listdir(UPLOADED_GESTURES_ROOT):\n",
    "    for gesture_folder in os.listdir(UPLOADED_GESTURES_ROOT / user_folder):\n",
    "        csv_files = list(\n",
    "            filter(\n",
    "                lambda file: file.endswith(\".csv\"),\n",
    "                os.listdir(\n",
    "                    UPLOADED_GESTURES_ROOT / user_folder / gesture_folder\n",
    "                ),\n",
    "            )\n",
    "        )\n",
    "        if not csv_files:\n",
    "            print(\n",
    "                \"Warning: Found a uploaded gesture folder without a dataset.csv file.\"\n",
    "            )\n",
    "            continue\n",
    "        dataset_file = csv_files[0]\n",
    "        print(\n",
    "            f\"Loading dataset from {UPLOADED_GESTURES_ROOT / user_folder / gesture_folder / dataset_file}\"\n",
    "        )\n",
    "        *gestures_words, handedness_string = gesture_folder.split(\"_\")\n",
    "        gesture_name = \"_\".join(gestures_words)\n",
    "        uploaded_gesture_dataset = GestureDataset(single_gesture=True)\n",
    "        uploaded_gesture_dataset.scan_videos(\n",
    "            dataset_location=UPLOADED_GESTURES_ROOT\n",
    "            / user_folder\n",
    "            / gesture_folder,\n",
    "            handedness_data={\n",
    "                gesture_name: (\n",
    "                    handedness_string[0] == \"1\",\n",
    "                    handedness_string[1] == \"1\",\n",
    "                )\n",
    "            },\n",
    "        )\n",
    "        uploaded_gesture_dataset.load_from_csv(\n",
    "            csv_path=UPLOADED_GESTURES_ROOT\n",
    "            / user_folder\n",
    "            / gesture_folder\n",
    "            / dataset_file\n",
    "        )\n",
    "        gesture_dataset.append_dataset(uploaded_gesture_dataset)\n",
    "\n",
    "gesture_dataset.summary()\n",
    "\n",
    "classifier: GestureClassifier = GestureClassifier(gesture_dataset=gesture_dataset)"
   ],
   "metadata": {
    "collapsed": false,
    "pycharm": {
     "name": "#%%\n"
    }
   }
  },
  {
   "cell_type": "code",
   "execution_count": null,
   "outputs": [],
   "source": [
    "gesture_dataset.x_data.shape"
   ],
   "metadata": {
    "collapsed": false,
    "pycharm": {
     "name": "#%%\n"
    }
   }
  },
  {
   "cell_type": "code",
   "execution_count": null,
   "outputs": [],
   "source": [
    "gesture_dataset.y_data.shape"
   ],
   "metadata": {
    "collapsed": false,
    "pycharm": {
     "name": "#%%\n"
    }
   }
  },
  {
   "cell_type": "code",
   "execution_count": null,
   "outputs": [],
   "source": [
    "len(gesture_dataset)"
   ],
   "metadata": {
    "collapsed": false,
    "pycharm": {
     "name": "#%%\n"
    }
   }
  },
  {
   "cell_type": "code",
   "execution_count": null,
   "outputs": [],
   "source": [
    "classifier.train(train_size=.5)\n",
    "classifier.summary()"
   ],
   "metadata": {
    "collapsed": false,
    "pycharm": {
     "name": "#%%\n"
    }
   }
  },
  {
   "cell_type": "code",
   "execution_count": null,
   "outputs": [],
   "source": [
    "classifier.visualize_accuracy()"
   ],
   "metadata": {
    "collapsed": false,
    "pycharm": {
     "name": "#%%\n"
    }
   }
  },
  {
   "cell_type": "code",
   "execution_count": null,
   "outputs": [],
   "source": [
    "classifier.visualize_loss()"
   ],
   "metadata": {
    "collapsed": false,
    "pycharm": {
     "name": "#%%\n"
    }
   }
  },
  {
   "cell_type": "code",
   "execution_count": null,
   "outputs": [],
   "source": [
    "classifier.confusion_matrix()"
   ],
   "metadata": {
    "collapsed": false,
    "pycharm": {
     "name": "#%%\n"
    }
   }
  },
  {
   "cell_type": "code",
   "execution_count": null,
   "outputs": [],
   "source": [
    "# classifier.save_model(\"../model.h5\")"
   ],
   "metadata": {
    "collapsed": false,
    "pycharm": {
     "name": "#%%\n"
    }
   }
  },
  {
   "cell_type": "code",
   "execution_count": null,
   "outputs": [],
   "source": [
    "exit()"
   ],
   "metadata": {
    "collapsed": false,
    "pycharm": {
     "name": "#%%\n"
    }
   }
  },
  {
   "cell_type": "markdown",
   "source": [
    "------------"
   ],
   "metadata": {
    "collapsed": false,
    "pycharm": {
     "name": "#%% md\n"
    }
   }
  },
  {
   "cell_type": "markdown",
   "source": [
    "# Test predictions"
   ],
   "metadata": {
    "collapsed": false,
    "pycharm": {
     "name": "#%% md\n"
    }
   }
  },
  {
   "cell_type": "code",
   "execution_count": null,
   "outputs": [],
   "source": [
    "from sl_ai.dataset import detect_hands_task, GestureData\n",
    "\n",
    "video_path = Path('../ai_data/vgt-all/duidelijk_11/duidelijk - 2023-01-04_16-41-21.mp4')\n",
    "gesture_data = GestureData(name=\"hello\", left_hand=False, right_hand=True)\n",
    "video_name, (frame_width, frame_height), left_landmarks, right_landmarks = detect_hands_task(gesture_data, video_path)\n"
   ],
   "metadata": {
    "collapsed": false,
    "pycharm": {
     "name": "#%%\n"
    }
   }
  },
  {
   "cell_type": "code",
   "execution_count": null,
   "outputs": [],
   "source": [
    "from sl_ai.dataset import preprocess_landmarks\n",
    "from copy import deepcopy\n",
    "left_landmarks_copy = deepcopy(left_landmarks)\n",
    "right_landmarks_copy = deepcopy(right_landmarks)\n",
    "preprocess_landmarks(left_landmarks_copy, right_landmarks_copy, None, None)"
   ],
   "metadata": {
    "collapsed": false,
    "pycharm": {
     "name": "#%%\n"
    }
   }
  },
  {
   "cell_type": "code",
   "execution_count": null,
   "outputs": [],
   "source": [
    "from sl_ai.dataset import pre_process_point_history_center\n",
    "\n",
    "for i, landmarks in left_landmarks_copy.items():\n",
    "    left_landmarks_copy[i] = pre_process_point_history_center(None, None, landmarks)\n",
    "for i, landmarks in right_landmarks_copy.items():\n",
    "    right_landmarks_copy[i] = pre_process_point_history_center(None, None, landmarks)"
   ],
   "metadata": {
    "collapsed": false,
    "pycharm": {
     "name": "#%%\n"
    }
   }
  },
  {
   "cell_type": "code",
   "execution_count": null,
   "outputs": [],
   "source": [
    "result = classifier.predict(left_landmarks_copy, right_landmarks_copy)\n",
    "classes_x = np.argmax(result, axis=1)\n",
    "print(classes_x)\n",
    "prediction_percents = (result*100)\n",
    "frame = pd.DataFrame(prediction_percents.astype(np.int32))\n",
    "print(frame)"
   ],
   "metadata": {
    "collapsed": false,
    "pycharm": {
     "name": "#%%\n"
    }
   }
  },
  {
   "cell_type": "code",
   "execution_count": null,
   "outputs": [],
   "source": [
    "result"
   ],
   "metadata": {
    "collapsed": false,
    "pycharm": {
     "name": "#%%\n"
    }
   }
  },
  {
   "cell_type": "code",
   "execution_count": null,
   "outputs": [],
   "source": [
    "# l = np.array(left_landmarks_copy[12], dtype='float32')\n",
    "# r = np.array(right_landmarks_copy[12], dtype='float32')\n",
    "#\n",
    "# x_data = np.concatenate((l, r), axis=0)\n",
    "# x_data = x_data.reshape((-1, x_data.shape[0]))\n",
    "# results = classifier.model.predict(x_data, batch_size=1)\n",
    "# classes_x = np.argmax(result, axis=1)\n",
    "# print(classes_x)\n",
    "# prediction_percents = (result*100)\n",
    "# frame = pd.DataFrame(prediction_percents.astype(np.int32))\n",
    "# print(frame)"
   ],
   "metadata": {
    "collapsed": false,
    "pycharm": {
     "name": "#%%\n"
    }
   }
  },
  {
   "cell_type": "code",
   "execution_count": null,
   "outputs": [],
   "source": [
    "# classifier.train(train_size=.5)\n",
    "# classifier.summary()"
   ],
   "metadata": {
    "collapsed": false,
    "pycharm": {
     "name": "#%%\n"
    }
   }
  },
  {
   "cell_type": "code",
   "execution_count": null,
   "outputs": [],
   "source": [
    "# classifier.visualize_accuracy()"
   ],
   "metadata": {
    "collapsed": false,
    "pycharm": {
     "name": "#%%\n"
    }
   }
  },
  {
   "cell_type": "code",
   "execution_count": null,
   "outputs": [],
   "source": [
    "# classifier.visualize_loss()"
   ],
   "metadata": {
    "collapsed": false,
    "pycharm": {
     "name": "#%%\n"
    }
   }
  },
  {
   "cell_type": "code",
   "execution_count": null,
   "outputs": [],
   "source": [
    "# classifier.confusion_matrix()"
   ],
   "metadata": {
    "collapsed": false,
    "pycharm": {
     "name": "#%%\n"
    }
   }
  },
  {
   "cell_type": "markdown",
   "source": [
    "# Test predictions"
   ],
   "metadata": {
    "collapsed": false,
    "pycharm": {
     "name": "#%% md\n"
    }
   }
  },
  {
   "cell_type": "code",
   "execution_count": null,
   "outputs": [],
   "source": [],
   "metadata": {
    "collapsed": false,
    "pycharm": {
     "name": "#%%\n"
    }
   }
  },
  {
   "cell_type": "code",
   "execution_count": null,
   "outputs": [],
   "source": [
    "# from sl_ai.dataset import detect_hands_task, GestureData\n",
    "#\n",
    "# video_path = Path('../ai_data/vgt-all/duidelijk_11/duidelijk - 2023-01-04_16-41-21.mp4')\n",
    "# gesture_data = GestureData(name=\"hello\", left_hand=False, right_hand=True)\n",
    "# video_name, (frame_width, frame_height), left_landmarks, right_landmarks = detect_hands_task(gesture_data, video_path)\n"
   ],
   "metadata": {
    "collapsed": false,
    "pycharm": {
     "name": "#%%\n"
    }
   }
  },
  {
   "cell_type": "code",
   "execution_count": null,
   "outputs": [],
   "source": [
    "# from sl_ai.dataset import preprocess_landmarks\n",
    "# from copy import deepcopy\n",
    "# left_landmarks_copy = deepcopy(left_landmarks)\n",
    "# right_landmarks_copy = deepcopy(right_landmarks)\n",
    "# preprocess_landmarks(left_landmarks_copy, right_landmarks_copy, None, None)"
   ],
   "metadata": {
    "collapsed": false,
    "pycharm": {
     "name": "#%%\n"
    }
   }
  },
  {
   "cell_type": "code",
   "execution_count": null,
   "outputs": [],
   "source": [
    "# from sl_ai.dataset import pre_process_point_history_center\n",
    "#\n",
    "# for i, landmarks in left_landmarks_copy.items():\n",
    "#     left_landmarks_copy[i] = pre_process_point_history_center(None, None, landmarks)\n",
    "# for i, landmarks in right_landmarks_copy.items():\n",
    "#     right_landmarks_copy[i] = pre_process_point_history_center(None, None, landmarks)"
   ],
   "metadata": {
    "collapsed": false,
    "pycharm": {
     "name": "#%%\n"
    }
   }
  },
  {
   "cell_type": "code",
   "execution_count": null,
   "outputs": [],
   "source": [
    "# result = classifier.predict(left_landmarks_copy, right_landmarks_copy)\n",
    "# classes_x = np.argmax(result, axis=1)\n",
    "# print(classes_x)\n",
    "# prediction_percents = (result*100)\n",
    "# frame = pd.DataFrame(prediction_percents.astype(np.int32))\n",
    "# print(frame)"
   ],
   "metadata": {
    "collapsed": false,
    "pycharm": {
     "name": "#%%\n"
    }
   }
  },
  {
   "cell_type": "code",
   "execution_count": null,
   "outputs": [],
   "source": [
    "# result"
   ],
   "metadata": {
    "collapsed": false,
    "pycharm": {
     "name": "#%%\n"
    }
   }
  },
  {
   "cell_type": "code",
   "execution_count": null,
   "outputs": [],
   "source": [
    "# l = np.array(left_landmarks_copy[12], dtype='float32')\n",
    "# r = np.array(right_landmarks_copy[12], dtype='float32')\n",
    "#\n",
    "# x_data = np.concatenate((l, r), axis=0)\n",
    "# x_data = x_data.reshape((-1, x_data.shape[0]))\n",
    "# results = classifier.model.predict(x_data, batch_size=1)\n",
    "# classes_x = np.argmax(result, axis=1)\n",
    "# print(classes_x)\n",
    "# prediction_percents = (result*100)\n",
    "# frame = pd.DataFrame(prediction_percents.astype(np.int32))\n",
    "# print(frame)"
   ],
   "metadata": {
    "collapsed": false,
    "pycharm": {
     "name": "#%%\n"
    }
   }
  },
  {
   "cell_type": "code",
   "execution_count": null,
   "outputs": [],
   "source": [],
   "metadata": {
    "collapsed": false,
    "pycharm": {
     "name": "#%%\n"
    }
   }
  }
 ],
 "metadata": {
  "kernelspec": {
   "display_name": "Python 3",
   "language": "python",
   "name": "python3"
  },
  "language_info": {
   "codemirror_mode": {
    "name": "ipython",
    "version": 2
   },
   "file_extension": ".py",
   "mimetype": "text/x-python",
   "name": "python",
   "nbconvert_exporter": "python",
   "pygments_lexer": "ipython2",
   "version": "2.7.6"
  }
 },
 "nbformat": 4,
 "nbformat_minor": 0
}